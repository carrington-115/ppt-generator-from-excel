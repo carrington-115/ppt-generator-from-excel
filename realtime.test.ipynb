{
 "cells": [
  {
   "cell_type": "code",
   "execution_count": 1,
   "metadata": {},
   "outputs": [
    {
     "name": "stdout",
     "output_type": "stream",
     "text": [
      "hello\n"
     ]
    }
   ],
   "source": [
    "from source.generatePPTfile import GeneratePPTFromFile\n",
    "\n",
    "mul_gen_obj = GeneratePPTFromFile(file_name=\"EAPS.ppt\", excel_file_location='assets/excel/5.EastAfricaPipelinev0.5.xlsx')\n",
    "mul_gen_obj.generatePPTForMultipleSheet('assets/ppt/')"
   ]
  },
  {
   "cell_type": "code",
   "execution_count": null,
   "metadata": {},
   "outputs": [],
   "source": []
  }
 ],
 "metadata": {
  "kernelspec": {
   "display_name": "Python 3",
   "language": "python",
   "name": "python3"
  },
  "language_info": {
   "codemirror_mode": {
    "name": "ipython",
    "version": 3
   },
   "file_extension": ".py",
   "mimetype": "text/x-python",
   "name": "python",
   "nbconvert_exporter": "python",
   "pygments_lexer": "ipython3",
   "version": "3.13.2"
  }
 },
 "nbformat": 4,
 "nbformat_minor": 2
}
