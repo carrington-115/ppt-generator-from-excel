{
 "cells": [
  {
   "cell_type": "code",
   "execution_count": null,
   "metadata": {},
   "outputs": [],
   "source": [
    "pip install pandas"
   ]
  },
  {
   "cell_type": "code",
   "execution_count": 11,
   "metadata": {},
   "outputs": [],
   "source": [
    "import pandas as pd"
   ]
  },
  {
   "cell_type": "code",
   "execution_count": null,
   "metadata": {},
   "outputs": [],
   "source": [
    "pip install openpyxl"
   ]
  },
  {
   "cell_type": "code",
   "execution_count": 4,
   "metadata": {},
   "outputs": [
    {
     "name": "stdout",
     "output_type": "stream",
     "text": [
      "hello world\n"
     ]
    }
   ],
   "source": [
    "print('hello world')"
   ]
  },
  {
   "cell_type": "code",
   "execution_count": 12,
   "metadata": {},
   "outputs": [
    {
     "name": "stdout",
     "output_type": "stream",
     "text": [
      "['Opportunities list', 'Competency wise', 'Sector-wise', 'EAF_BidsQuantified', 'WAF_BidsQuantified', 'SAF_BidsQuantified', 'RAF_BidsQuantified', 'EAF_BidsSubmitted', 'WAF_BidsSubmitted', 'SAF_BidsSubmitted', 'RAF_BidsSubmitted', 'Duplicate Check', 'Reasons for dropping opps', 'SummaryEastAfrica', 'Sector SPOC names', 'SPOC Mapping', 'SPOCMapping by Akshya', 'Updated SPOC List', 'Ey Connects', 'Sheet1', 'Pivot sheet']\n",
      "hello\n"
     ]
    }
   ],
   "source": [
    "excel_file='assets/excel/5.EastAfricaPipelinev0.5.xlsx'\n",
    "xls = pd.ExcelFile(excel_file)\n",
    "print(xls.sheet_names)\n",
    "print('hello')"
   ]
  },
  {
   "cell_type": "code",
   "execution_count": 13,
   "metadata": {},
   "outputs": [
    {
     "name": "stdout",
     "output_type": "stream",
     "text": [
      "            \n",
      "Consulting Type (All)         \n",
      "Type (Multiple Items)         \n",
      "            \n",
      "Count of Status Column Labels         \n",
      "Row Labels Lost Open Submitted Win Grand Total \n",
      "Ethiopia 5   3   8 \n",
      "Kenya 5   6 1 12 \n",
      "Rwanda 9 3 3 1 16 \n",
      "South Sudan 1   1   2 \n",
      "Tanzania 1   4   5 \n",
      "Uganda 1 1 7   9 \n",
      "Grand Total 22 4 24 2 52 \n",
      "<class 'str'>\n"
     ]
    }
   ],
   "source": [
    "for sheet in xls.sheet_names:\n",
    "    if sheet == 'EAF_BidsQuantified':\n",
    "        df = pd.read_excel(xls, sheet)\n",
    "        df = df.fillna(' ')\n",
    "        sheet_data = df.to_numpy()\n",
    "        # print(sheet_data)\n",
    "        for data in sheet_data:\n",
    "            for cell in data:\n",
    "                print(cell, end=' ')\n",
    "            print()\n",
    "\n",
    "        print(type(sheet_data[0][0]))\n",
    "\n",
    "\n",
    "\n",
    "\n"
   ]
  },
  {
   "cell_type": "code",
   "execution_count": 15,
   "metadata": {},
   "outputs": [
    {
     "name": "stdout",
     "output_type": "stream",
     "text": [
      "Opportunities list\n",
      "Competency wise\n",
      "Sector-wise\n",
      "EAF_BidsQuantified\n",
      "WAF_BidsQuantified\n",
      "SAF_BidsQuantified\n",
      "RAF_BidsQuantified\n",
      "EAF_BidsSubmitted\n",
      "WAF_BidsSubmitted\n",
      "SAF_BidsSubmitted\n",
      "RAF_BidsSubmitted\n",
      "Duplicate Check\n",
      "Reasons for dropping opps\n",
      "SummaryEastAfrica\n",
      "Sector SPOC names\n",
      "SPOC Mapping\n",
      "SPOCMapping by Akshya\n",
      "Updated SPOC List\n",
      "Ey Connects\n",
      "Sheet1\n",
      "Pivot sheet\n"
     ]
    }
   ],
   "source": [
    "for sheet in xls.sheet_names:\n",
    "    df = pd.read_excel(xls, sheet)\n",
    "    df = df.fillna(' ')\n",
    "    sheet_data = df.to_numpy()\n",
    "    print(sheet)\n",
    "    # for data in sheet_data:\n",
    "    #     for cell in data:\n",
    "    #         print(cell, end=' ')\n",
    "    #     print()\n",
    "\n",
    "    #     print(type(sheet_data[0][0]))"
   ]
  },
  {
   "cell_type": "code",
   "execution_count": null,
   "metadata": {},
   "outputs": [],
   "source": [
    "for sheet in xls.sheet_names:\n",
    "    df = pd.read_excel(xls, sheet)\n",
    "    # print(df)"
   ]
  },
  {
   "cell_type": "code",
   "execution_count": null,
   "metadata": {},
   "outputs": [],
   "source": [
    "for sheet in xls.sheet_names:\n",
    "    \n",
    "    df = pd.read_excel(xls, sheet)\n",
    "    df = df.fillna(' ')\n",
    "    sheet_data = df.to_numpy()\n",
    "        # print(sheet_data)\n",
    "    for data in sheet_data:\n",
    "        for cell in data:\n",
    "            print(cell, end=' ')\n",
    "        print()\n",
    "\n"
   ]
  },
  {
   "cell_type": "code",
   "execution_count": 64,
   "metadata": {},
   "outputs": [],
   "source": [
    "sample_sheet = 0\n",
    "\n",
    "for sheet in xls.sheet_names:\n",
    "    if sheet == 'EAF_BidsQuantified':\n",
    "        df = pd.read_excel(xls, sheet)\n",
    "        df = df.fillna(' ')\n",
    "        sheet_data = df.to_numpy()\n",
    "        sample_sheet = sheet_data"
   ]
  },
  {
   "cell_type": "code",
   "execution_count": null,
   "metadata": {},
   "outputs": [],
   "source": [
    "pip install python-pptx"
   ]
  },
  {
   "cell_type": "code",
   "execution_count": null,
   "metadata": {},
   "outputs": [],
   "source": [
    "col_num = len(sample_sheet[0])\n",
    "row_num = len(sample_sheet)\n",
    "\n",
    "for i in range(row_num):\n",
    "    for j in range(col_num):\n",
    "        print(str(sample_sheet[i][j]), end=' ')\n",
    "    print()"
   ]
  },
  {
   "cell_type": "code",
   "execution_count": 88,
   "metadata": {},
   "outputs": [
    {
     "name": "stdout",
     "output_type": "stream",
     "text": [
      "13 6\n"
     ]
    }
   ],
   "source": [
    "from pptx import Presentation\n",
    "from pptx.util import Inches\n",
    "\n",
    "col_num = len(sample_sheet[0])\n",
    "row_num = len(sample_sheet)\n",
    "\n",
    "print(row_num, col_num)\n",
    "\n",
    "left = Inches(1)\n",
    "top = Inches(1.5)\n",
    "width = Inches(6)\n",
    "height = Inches(2)\n",
    "\n",
    "prs = Presentation()\n",
    "slide_layout = prs.slide_layouts[1]\n",
    "slide = prs.slides.add_slide(slide_layout)\n",
    "table = slide.shapes.add_table(row_num, col_num, left, top, width, height).table\n",
    "for i in range(row_num):\n",
    "    for j in range(col_num):\n",
    "        table.cell(i, j).text = str(sample_sheet[i][j])\n",
    "\n",
    "prs.save('assets/ppt/5.EastAfricaPipelinev0.5.pptx')\n"
   ]
  },
  {
   "cell_type": "code",
   "execution_count": 1,
   "metadata": {},
   "outputs": [
    {
     "name": "stdout",
     "output_type": "stream",
     "text": [
      "hello world\n"
     ]
    }
   ],
   "source": [
    "from source.readFile import ReadExcelFile\n",
    "obj = ReadExcelFile('hello world')\n",
    "print(obj)"
   ]
  },
  {
   "cell_type": "code",
   "execution_count": 9,
   "metadata": {},
   "outputs": [],
   "source": [
    "from source.generatePPTfile import GeneratePPTFromFile\n",
    "gen_obj = GeneratePPTFromFile('5.EastAfricaPipelinev0.5.xlsx', \"\", 'assets/excel/5.EastAfricaPipelinev0.5.xlsx')\n",
    "gen_obj.generatePPTForSingleSheet('assets/ppt/', 'EAF_BidsQuantified')\n"
   ]
  },
  {
   "cell_type": "code",
   "execution_count": null,
   "metadata": {},
   "outputs": [],
   "source": [
    "# multiple files test\n",
    "from source.readFile import ReadExcelFile\n",
    "\n",
    "read_obj = ReadExcelFile('assets/excel/5.EastAfricaPipelinev0.5.xlsx')\n",
    "all_sheet_data = read_obj.readMultipleSheetData()\n",
    "print(all_sheet_data)"
   ]
  },
  {
   "cell_type": "code",
   "execution_count": 3,
   "metadata": {},
   "outputs": [
    {
     "name": "stdout",
     "output_type": "stream",
     "text": [
      "name mark\n",
      "course cs\n"
     ]
    }
   ],
   "source": [
    "data = dict({\n",
    "    'name': 'mark',\n",
    "    'course': 'cs'\n",
    "})\n",
    "\n",
    "for i, j in data.items():\n",
    "    print(i, j)"
   ]
  },
  {
   "cell_type": "code",
   "execution_count": 7,
   "metadata": {},
   "outputs": [
    {
     "name": "stdout",
     "output_type": "stream",
     "text": [
      "0 1\n",
      "1 2\n",
      "<class 'enumerate'>\n"
     ]
    }
   ],
   "source": [
    "for i, j in enumerate([1, 2]):\n",
    "    print(i, j)\n",
    "\n",
    "print(type(enumerate([1, 2])))"
   ]
  },
  {
   "cell_type": "code",
   "execution_count": 3,
   "metadata": {},
   "outputs": [
    {
     "ename": "TypeError",
     "evalue": "'int' object is not iterable",
     "output_type": "error",
     "traceback": [
      "\u001b[1;31m---------------------------------------------------------------------------\u001b[0m",
      "\u001b[1;31mTypeError\u001b[0m                                 Traceback (most recent call last)",
      "Cell \u001b[1;32mIn[3], line 4\u001b[0m\n\u001b[0;32m      1\u001b[0m \u001b[38;5;28;01mfrom\u001b[39;00m\u001b[38;5;250m \u001b[39m\u001b[38;5;21;01msource\u001b[39;00m\u001b[38;5;21;01m.\u001b[39;00m\u001b[38;5;21;01mgeneratePPTfile\u001b[39;00m\u001b[38;5;250m \u001b[39m\u001b[38;5;28;01mimport\u001b[39;00m GeneratePPTFromFile\n\u001b[0;32m      3\u001b[0m mul_gen_obj \u001b[38;5;241m=\u001b[39m GeneratePPTFromFile(file_name\u001b[38;5;241m=\u001b[39m\u001b[38;5;124m\"\u001b[39m\u001b[38;5;124mEAPS.ppt\u001b[39m\u001b[38;5;124m\"\u001b[39m, excel_file_location\u001b[38;5;241m=\u001b[39m\u001b[38;5;124m'\u001b[39m\u001b[38;5;124massets/excel/5.EastAfricaPipelinev0.5.xlsx\u001b[39m\u001b[38;5;124m'\u001b[39m)\n\u001b[1;32m----> 4\u001b[0m \u001b[43mmul_gen_obj\u001b[49m\u001b[38;5;241;43m.\u001b[39;49m\u001b[43mgeneratePPTForMultipleSheet\u001b[49m\u001b[43m(\u001b[49m\u001b[38;5;124;43m'\u001b[39;49m\u001b[38;5;124;43massets/ppt/\u001b[39;49m\u001b[38;5;124;43m'\u001b[39;49m\u001b[43m)\u001b[49m\n",
      "File \u001b[1;32mc:\\Users\\fruma\\OneDrive\\Desktop\\projects\\ppt-generator-from-excel\\source\\generatePPTfile.py:63\u001b[0m, in \u001b[0;36mGeneratePPTFromFile.generatePPTForMultipleSheet\u001b[1;34m(self, ppt_location)\u001b[0m\n\u001b[0;32m     61\u001b[0m \u001b[38;5;28;01mfor\u001b[39;00m name, data \u001b[38;5;129;01min\u001b[39;00m all_sheet_data\u001b[38;5;241m.\u001b[39mitems():\n\u001b[0;32m     62\u001b[0m     rows, cols \u001b[38;5;241m=\u001b[39m read_object\u001b[38;5;241m.\u001b[39mrowAndCol(name)\n\u001b[1;32m---> 63\u001b[0m     \u001b[38;5;28;43mself\u001b[39;49m\u001b[38;5;241;43m.\u001b[39;49m\u001b[43museGenerate\u001b[49m\u001b[43m(\u001b[49m\u001b[43mdata\u001b[49m\u001b[43m,\u001b[49m\u001b[43m \u001b[49m\u001b[43mrows\u001b[49m\u001b[43m,\u001b[49m\u001b[43m \u001b[49m\u001b[43mcols\u001b[49m\u001b[43m)\u001b[49m\n\u001b[0;32m     65\u001b[0m prs\u001b[38;5;241m.\u001b[39msave(ppt_location \u001b[38;5;241m+\u001b[39m \u001b[38;5;28mself\u001b[39m\u001b[38;5;241m.\u001b[39mfile_name)\n",
      "File \u001b[1;32mc:\\Users\\fruma\\OneDrive\\Desktop\\projects\\ppt-generator-from-excel\\source\\generatePPTfile.py:53\u001b[0m, in \u001b[0;36mGeneratePPTFromFile.useGenerate\u001b[1;34m(self, sheet_data, rows, cols)\u001b[0m\n\u001b[0;32m     51\u001b[0m slide_info \u001b[38;5;241m=\u001b[39m \u001b[38;5;28mself\u001b[39m\u001b[38;5;241m.\u001b[39maddSlideToPresentation(slide_layout)\n\u001b[0;32m     52\u001b[0m table_data \u001b[38;5;241m=\u001b[39m slide_info\u001b[38;5;241m.\u001b[39mshapes\u001b[38;5;241m.\u001b[39madd_table(rows, cols, left, top, width, height)\u001b[38;5;241m.\u001b[39mtable\n\u001b[1;32m---> 53\u001b[0m \u001b[38;5;28;43mself\u001b[39;49m\u001b[38;5;241;43m.\u001b[39;49m\u001b[43menterTableData\u001b[49m\u001b[43m(\u001b[49m\u001b[43mrows\u001b[49m\u001b[43m,\u001b[49m\u001b[43m \u001b[49m\u001b[43mcols\u001b[49m\u001b[43m,\u001b[49m\u001b[43m \u001b[49m\u001b[43mtable_data\u001b[49m\u001b[43m,\u001b[49m\u001b[43m \u001b[49m\u001b[43msheet_data\u001b[49m\u001b[43m)\u001b[49m\n",
      "File \u001b[1;32mc:\\Users\\fruma\\OneDrive\\Desktop\\projects\\ppt-generator-from-excel\\source\\generatePPTfile.py:22\u001b[0m, in \u001b[0;36mGeneratePPTFromFile.enterTableData\u001b[1;34m(self, rows, cols, table, sheet_data)\u001b[0m\n\u001b[0;32m     19\u001b[0m     \u001b[38;5;28;01mfor\u001b[39;00m j \u001b[38;5;129;01min\u001b[39;00m \u001b[38;5;28mrange\u001b[39m(cols):\n\u001b[0;32m     20\u001b[0m         table\u001b[38;5;241m.\u001b[39mcell(i, j)\u001b[38;5;241m.\u001b[39mtext \u001b[38;5;241m=\u001b[39m \u001b[38;5;28mstr\u001b[39m(sheet_data[i][j])\n\u001b[1;32m---> 22\u001b[0m \u001b[38;5;28;43mself\u001b[39;49m\u001b[38;5;241;43m.\u001b[39;49m\u001b[43meditFontSizeAndFamily\u001b[49m\u001b[43m(\u001b[49m\u001b[43mrows\u001b[49m\u001b[43m,\u001b[49m\u001b[43m \u001b[49m\u001b[43mcols\u001b[49m\u001b[43m,\u001b[49m\u001b[43m \u001b[49m\u001b[43mtable\u001b[49m\u001b[43m)\u001b[49m\n",
      "File \u001b[1;32mc:\\Users\\fruma\\OneDrive\\Desktop\\projects\\ppt-generator-from-excel\\source\\generatePPTfile.py:68\u001b[0m, in \u001b[0;36mGeneratePPTFromFile.editFontSizeAndFamily\u001b[1;34m(self, rows, cols, table)\u001b[0m\n\u001b[0;32m     67\u001b[0m \u001b[38;5;28;01mdef\u001b[39;00m\u001b[38;5;250m \u001b[39m\u001b[38;5;21meditFontSizeAndFamily\u001b[39m(\u001b[38;5;28mself\u001b[39m, rows, cols, table):\n\u001b[1;32m---> 68\u001b[0m \u001b[43m    \u001b[49m\u001b[38;5;28;43;01mfor\u001b[39;49;00m\u001b[43m \u001b[49m\u001b[43mi\u001b[49m\u001b[43m \u001b[49m\u001b[38;5;129;43;01min\u001b[39;49;00m\u001b[43m \u001b[49m\u001b[43mrows\u001b[49m\u001b[43m:\u001b[49m\n\u001b[0;32m     69\u001b[0m \u001b[43m        \u001b[49m\u001b[38;5;28;43;01mfor\u001b[39;49;00m\u001b[43m \u001b[49m\u001b[43mj\u001b[49m\u001b[43m \u001b[49m\u001b[38;5;129;43;01min\u001b[39;49;00m\u001b[43m \u001b[49m\u001b[43mcols\u001b[49m\u001b[43m:\u001b[49m\n\u001b[0;32m     70\u001b[0m \u001b[43m            \u001b[49m\u001b[43mcell\u001b[49m\u001b[43m \u001b[49m\u001b[38;5;241;43m=\u001b[39;49m\u001b[43m \u001b[49m\u001b[43mtable\u001b[49m\u001b[38;5;241;43m.\u001b[39;49m\u001b[43mcell\u001b[49m\u001b[43m(\u001b[49m\u001b[43mi\u001b[49m\u001b[43m,\u001b[49m\u001b[43m \u001b[49m\u001b[43mj\u001b[49m\u001b[43m)\u001b[49m\n",
      "\u001b[1;31mTypeError\u001b[0m: 'int' object is not iterable"
     ]
    }
   ],
   "source": [
    "from source.generatePPTfile import GeneratePPTFromFile\n",
    "\n",
    "mul_gen_obj = GeneratePPTFromFile(file_name=\"EAPS.ppt\", excel_file_location='assets/excel/5.EastAfricaPipelinev0.5.xlsx')\n",
    "mul_gen_obj.generatePPTForMultipleSheet('assets/ppt/')\n",
    "\n",
    "\n",
    "\n",
    "\n"
   ]
  },
  {
   "cell_type": "code",
   "execution_count": null,
   "metadata": {},
   "outputs": [],
   "source": []
  }
 ],
 "metadata": {
  "kernelspec": {
   "display_name": "Python 3",
   "language": "python",
   "name": "python3"
  },
  "language_info": {
   "codemirror_mode": {
    "name": "ipython",
    "version": 3
   },
   "file_extension": ".py",
   "mimetype": "text/x-python",
   "name": "python",
   "nbconvert_exporter": "python",
   "pygments_lexer": "ipython3",
   "version": "3.13.2"
  }
 },
 "nbformat": 4,
 "nbformat_minor": 2
}
