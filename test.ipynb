{
 "cells": [
  {
   "cell_type": "code",
   "execution_count": null,
   "metadata": {},
   "outputs": [],
   "source": [
    "pip install pandas"
   ]
  },
  {
   "cell_type": "code",
   "execution_count": 3,
   "metadata": {},
   "outputs": [],
   "source": [
    "import pandas as pd"
   ]
  },
  {
   "cell_type": "code",
   "execution_count": null,
   "metadata": {},
   "outputs": [],
   "source": [
    "pip install openpyxl"
   ]
  },
  {
   "cell_type": "code",
   "execution_count": 4,
   "metadata": {},
   "outputs": [
    {
     "name": "stdout",
     "output_type": "stream",
     "text": [
      "hello world\n"
     ]
    }
   ],
   "source": [
    "print('hello world')"
   ]
  },
  {
   "cell_type": "code",
   "execution_count": null,
   "metadata": {},
   "outputs": [],
   "source": [
    "excel_file='assets/excel/5.EastAfricaPipelinev0.5.xlsx'\n",
    "xls = pd.ExcelFile(excel_file)\n",
    "print(xls.sheet_names)\n",
    "print('hello')"
   ]
  },
  {
   "cell_type": "code",
   "execution_count": null,
   "metadata": {},
   "outputs": [],
   "source": [
    "for sheet in xls.sheet_names:\n",
    "    if sheet == 'EAF_BidsQuantified':\n",
    "        df = pd.read_excel(xls, sheet)\n",
    "        df = df.fillna(' ')\n",
    "        sheet_data = df.to_numpy()\n",
    "        # print(sheet_data)\n",
    "        for data in sheet_data:\n",
    "            for cell in data:\n",
    "                print(cell, end=' ')\n",
    "            print()\n",
    "\n",
    "        print(type(sheet_data[0][0]))\n",
    "\n",
    "\n",
    "\n"
   ]
  },
  {
   "cell_type": "code",
   "execution_count": null,
   "metadata": {},
   "outputs": [],
   "source": [
    "for sheet in xls.sheet_names:\n",
    "    df = pd.read_excel(xls, sheet)\n",
    "    # print(df)"
   ]
  },
  {
   "cell_type": "code",
   "execution_count": null,
   "metadata": {},
   "outputs": [],
   "source": [
    "for sheet in xls.sheet_names:\n",
    "    \n",
    "    df = pd.read_excel(xls, sheet)\n",
    "    df = df.fillna(' ')\n",
    "    sheet_data = df.to_numpy()\n",
    "        # print(sheet_data)\n",
    "    for data in sheet_data:\n",
    "        for cell in data:\n",
    "            print(cell, end=' ')\n",
    "        print()\n",
    "\n"
   ]
  },
  {
   "cell_type": "code",
   "execution_count": 64,
   "metadata": {},
   "outputs": [],
   "source": [
    "sample_sheet = 0\n",
    "\n",
    "for sheet in xls.sheet_names:\n",
    "    if sheet == 'EAF_BidsQuantified':\n",
    "        df = pd.read_excel(xls, sheet)\n",
    "        df = df.fillna(' ')\n",
    "        sheet_data = df.to_numpy()\n",
    "        sample_sheet = sheet_data"
   ]
  },
  {
   "cell_type": "code",
   "execution_count": null,
   "metadata": {},
   "outputs": [],
   "source": [
    "pip install python-pptx"
   ]
  },
  {
   "cell_type": "code",
   "execution_count": null,
   "metadata": {},
   "outputs": [],
   "source": [
    "col_num = len(sample_sheet[0])\n",
    "row_num = len(sample_sheet)\n",
    "\n",
    "for i in range(row_num):\n",
    "    for j in range(col_num):\n",
    "        print(str(sample_sheet[i][j]), end=' ')\n",
    "    print()"
   ]
  },
  {
   "cell_type": "code",
   "execution_count": 88,
   "metadata": {},
   "outputs": [
    {
     "name": "stdout",
     "output_type": "stream",
     "text": [
      "13 6\n"
     ]
    }
   ],
   "source": [
    "from pptx import Presentation\n",
    "from pptx.util import Inches\n",
    "\n",
    "col_num = len(sample_sheet[0])\n",
    "row_num = len(sample_sheet)\n",
    "\n",
    "print(row_num, col_num)\n",
    "\n",
    "left = Inches(1)\n",
    "top = Inches(1.5)\n",
    "width = Inches(6)\n",
    "height = Inches(2)\n",
    "\n",
    "prs = Presentation()\n",
    "slide_layout = prs.slide_layouts[1]\n",
    "slide = prs.slides.add_slide(slide_layout)\n",
    "table = slide.shapes.add_table(row_num, col_num, left, top, width, height).table\n",
    "for i in range(row_num):\n",
    "    for j in range(col_num):\n",
    "        table.cell(i, j).text = str(sample_sheet[i][j])\n",
    "\n",
    "prs.save('assets/ppt/5.EastAfricaPipelinev0.5.pptx')\n"
   ]
  },
  {
   "cell_type": "code",
   "execution_count": null,
   "metadata": {},
   "outputs": [],
   "source": []
  }
 ],
 "metadata": {
  "kernelspec": {
   "display_name": "Python 3",
   "language": "python",
   "name": "python3"
  },
  "language_info": {
   "codemirror_mode": {
    "name": "ipython",
    "version": 3
   },
   "file_extension": ".py",
   "mimetype": "text/x-python",
   "name": "python",
   "nbconvert_exporter": "python",
   "pygments_lexer": "ipython3",
   "version": "3.13.2"
  }
 },
 "nbformat": 4,
 "nbformat_minor": 2
}
